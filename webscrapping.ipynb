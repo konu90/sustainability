{
 "cells": [
  {
   "cell_type": "code",
   "execution_count": 1,
   "metadata": {},
   "outputs": [],
   "source": [
    "import pandas as pd\n",
    "import re\n",
    "import numpy as np"
   ]
  },
  {
   "cell_type": "code",
   "execution_count": 4,
   "metadata": {},
   "outputs": [],
   "source": [
    "def extraeWeb (webscrap): \n",
    "    auxInput = []\n",
    "\n",
    "    # Obtén fecha\n",
    "    regex = \"dt=.\\d*\\\"\\>(\\d\\d\\/\\d\\d\\/\\d\\d)\"\n",
    "    matches = re.findall(regex, webscrap, re.MULTILINE)\n",
    "    auxInput.append(matches)\n",
    "\n",
    "    # Obtén energía generada (Generated)\n",
    "    regex = \"title=\\\"Exported: None\\\">(\\d*\\.\\d*)\"\n",
    "    matches = re.findall(regex, webscrap, re.MULTILINE)\n",
    "    auxInput.append(matches)\n",
    "\n",
    "    # Obtén eficiencia (efficiency)\n",
    "    regex = \"style=\\\"padding-right:25px\\\">(.d*\\.\\d*)\"\n",
    "    matches = re.findall(regex, webscrap, re.MULTILINE)\n",
    "    auxInput.append(matches)\n",
    "\n",
    "    # Obtén pico de potencia (peak power)\n",
    "    regex = \"style=\\\"padding-right:35px\\\">(\\d*\\.\\d*)\"\n",
    "    matches = re.findall(regex, webscrap, re.MULTILINE)\n",
    "    auxInput.append(matches)\n",
    "\n",
    "    # Obtén hora de pico (peak time)\n",
    "    regex = \"<td align=\\\"center\\\">(\\d*\\:\\d*..)\"\n",
    "    matches = re.findall(regex, webscrap, re.MULTILINE)\n",
    "    auxInput.append(matches)\n",
    "\n",
    "    # Obtén tipo de día (condictions)\n",
    "    regex = \"<td nowrap=\\\"\\\">(\\w*\\s\\w*|\\w*)</td><td align=\\\"right\\\"\"\n",
    "    matches = re.findall(regex, webscrap, re.MULTILINE)\n",
    "    auxInput.append(matches)\n",
    "\n",
    "\n",
    "    tomaMelon = np.array(auxInput).T.tolist()\n",
    "    enpandas = pd.DataFrame(tomaMelon)\n",
    "    return enpandas\n"
   ]
  }
 ],
 "metadata": {
  "jupytext": {
   "formats": "ipynb,py:light"
  },
  "kernelspec": {
   "display_name": "Python 3",
   "language": "python",
   "name": "python3"
  },
  "language_info": {
   "codemirror_mode": {
    "name": "ipython",
    "version": 3
   },
   "file_extension": ".py",
   "mimetype": "text/x-python",
   "name": "python",
   "nbconvert_exporter": "python",
   "pygments_lexer": "ipython3",
   "version": "3.6.5"
  }
 },
 "nbformat": 4,
 "nbformat_minor": 2
}
